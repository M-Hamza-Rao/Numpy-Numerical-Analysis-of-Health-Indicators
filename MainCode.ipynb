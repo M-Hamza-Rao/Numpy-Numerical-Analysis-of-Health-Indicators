{
 "cells": [
  {
   "cell_type": "code",
   "execution_count": 1,
   "id": "972e9396",
   "metadata": {},
   "outputs": [],
   "source": [
    "#Code below"
   ]
  },
  {
   "cell_type": "code",
   "execution_count": 2,
   "id": "b2c29ee6",
   "metadata": {},
   "outputs": [],
   "source": [
    "import numpy as np"
   ]
  },
  {
   "cell_type": "code",
   "execution_count": 25,
   "id": "d4144d7a",
   "metadata": {},
   "outputs": [],
   "source": [
    "#Preaparation\n",
    "input_file = 'data.csv'\n",
    "output_file = 'cleaned_data.csv'\n",
    "\n",
    "with open(input_file, 'r', encoding='utf-8') as f_in, open(output_file, 'w', encoding='utf-8') as f_out:\n",
    "    for line in f_in:\n",
    "        # Split by comma to count columns\n",
    "        columns = line.strip().split(',')\n",
    "        # Check if line has exactly 34 columns\n",
    "        if len(columns) == 34:\n",
    "            f_out.write(line)"
   ]
  },
  {
   "cell_type": "code",
   "execution_count": 34,
   "id": "4462224e",
   "metadata": {},
   "outputs": [],
   "source": [
    "#Loading\n",
    "\n",
    "data = np.genfromtxt(\n",
    "    'cleaned_data.csv',           \n",
    "    delimiter=\",\",                \n",
    "    dtype=None,                   \n",
    "    encoding='utf-8',             \n",
    "    names=None,                   \n",
    "    missing_values='',            \n",
    "    filling_values=np.nan, \n",
    "    invalid_raise = False #To ignore rows with inconsistant column count\n",
    ")"
   ]
  },
  {
   "cell_type": "code",
   "execution_count": 35,
   "id": "20415e5f",
   "metadata": {},
   "outputs": [
    {
     "name": "stdout",
     "output_type": "stream",
     "text": [
      "[['IndicatorCode' 'Indicator' 'ValueType' 'ParentLocationCode'\n",
      "  'ParentLocation' 'Location type' 'SpatialDimValueCode' 'Location'\n",
      "  'Period type' 'Period' 'IsLatestYear' 'Dim1 type' 'Dim1'\n",
      "  'Dim1ValueCode' 'Dim2 type' 'Dim2' 'Dim2ValueCode' 'Dim3 type' 'Dim3'\n",
      "  'Dim3ValueCode' 'DataSourceDimValueCode' 'DataSource'\n",
      "  'FactValueNumericPrefix' 'FactValueNumeric' 'FactValueUoM'\n",
      "  'FactValueNumericLowPrefix' 'FactValueNumericLow'\n",
      "  'FactValueNumericHighPrefix' 'FactValueNumericHigh' 'Value'\n",
      "  'FactValueTranslationID' 'FactComments' 'Language' 'DateModified']\n",
      " ['WHOSIS_000001' 'Life expectancy at birth (years)' 'text' 'AFR'\n",
      "  'Africa' 'Country' 'LSO' 'Lesotho' 'Year' '2021' 'true' 'Sex' 'Male'\n",
      "  'SEX_MLE' '' '' '' '' '' '' '' '' '' '48.73' '' '' '47.8' '' '49.7'\n",
      "  '48.7 [47.8-49.7]' '' '' 'EN' '2024-08-01T22:00:00.000Z']\n",
      " ['WHOSIS_000001' 'Life expectancy at birth (years)' 'text' 'AFR'\n",
      "  'Africa' 'Country' 'CAF' 'Central African Republic' 'Year' '2021'\n",
      "  'true' 'Sex' 'Male' 'SEX_MLE' '' '' '' '' '' '' '' '' '' '49.57' '' ''\n",
      "  '48.45' '' '50.92' '49.6 [48.5-50.9]' '' '' 'EN'\n",
      "  '2024-08-01T22:00:00.000Z']\n",
      " ['WHOSIS_000001' 'Life expectancy at birth (years)' 'text' 'AFR'\n",
      "  'Africa' 'Country' 'LSO' 'Lesotho' 'Year' '2021' 'true' 'Sex'\n",
      "  'Both sexes' 'SEX_BTSX' '' '' '' '' '' '' '' '' '' '51.48' '' ''\n",
      "  '50.49' '' '52.57' '51.5 [50.5-52.6]' '' '' 'EN'\n",
      "  '2024-08-01T22:00:00.000Z']\n",
      " ['WHOSIS_000001' 'Life expectancy at birth (years)' 'text' 'AFR'\n",
      "  'Africa' 'Country' 'SWZ' 'Eswatini' 'Year' '2021' 'true' 'Sex' 'Male'\n",
      "  'SEX_MLE' '' '' '' '' '' '' '' '' '' '51.64' '' '' '50.73' '' '52.82'\n",
      "  '51.6 [50.7-52.8]' '' '' 'EN' '2024-08-01T22:00:00.000Z']]\n"
     ]
    }
   ],
   "source": [
    "#Example display\n",
    "print(data[:5])  # Header\n"
   ]
  },
  {
   "cell_type": "code",
   "execution_count": 39,
   "id": "bc41741d",
   "metadata": {},
   "outputs": [],
   "source": [
    "for col in range(data.shape[1]): \n",
    "    col_data = data[1:, col] \n",
    "    if np.issubdtype(col_data.dtype, np.number):  \n",
    "        col_mean = np.nanmean(col_data)  \n",
    "        col_data[np.isnan(col_data)] = col_mean \n",
    "    else:\n",
    "        col_data[col_data == ''] = 'Unknown'"
   ]
  },
  {
   "cell_type": "code",
   "execution_count": 40,
   "id": "ce0c2bcd",
   "metadata": {},
   "outputs": [
    {
     "name": "stdout",
     "output_type": "stream",
     "text": [
      "[['IndicatorCode' 'Indicator' 'ValueType' 'ParentLocationCode'\n",
      "  'ParentLocation' 'Location type' 'SpatialDimValueCode' 'Location'\n",
      "  'Period type' 'Period' 'IsLatestYear' 'Dim1 type' 'Dim1'\n",
      "  'Dim1ValueCode' 'Dim2 type' 'Dim2' 'Dim2ValueCode' 'Dim3 type' 'Dim3'\n",
      "  'Dim3ValueCode' 'DataSourceDimValueCode' 'DataSource'\n",
      "  'FactValueNumericPrefix' 'FactValueNumeric' 'FactValueUoM'\n",
      "  'FactValueNumericLowPrefix' 'FactValueNumericLow'\n",
      "  'FactValueNumericHighPrefix' 'FactValueNumericHigh' 'Value'\n",
      "  'FactValueTranslationID' 'FactComments' 'Language' 'DateModified']\n",
      " ['WHOSIS_000001' 'Life expectancy at birth (years)' 'text' 'AFR'\n",
      "  'Africa' 'Country' 'LSO' 'Lesotho' 'Year' '2021' 'true' 'Sex' 'Male'\n",
      "  'SEX_MLE' 'Unknown' 'Unknown' 'Unknown' 'Unknown' 'Unknown' 'Unknown'\n",
      "  'Unknown' 'Unknown' 'Unknown' '48.73' 'Unknown' 'Unknown' '47.8'\n",
      "  'Unknown' '49.7' '48.7 [47.8-49.7]' 'Unknown' 'Unknown' 'EN'\n",
      "  '2024-08-01T22:00:00.000Z']\n",
      " ['WHOSIS_000001' 'Life expectancy at birth (years)' 'text' 'AFR'\n",
      "  'Africa' 'Country' 'CAF' 'Central African Republic' 'Year' '2021'\n",
      "  'true' 'Sex' 'Male' 'SEX_MLE' 'Unknown' 'Unknown' 'Unknown' 'Unknown'\n",
      "  'Unknown' 'Unknown' 'Unknown' 'Unknown' 'Unknown' '49.57' 'Unknown'\n",
      "  'Unknown' '48.45' 'Unknown' '50.92' '49.6 [48.5-50.9]' 'Unknown'\n",
      "  'Unknown' 'EN' '2024-08-01T22:00:00.000Z']\n",
      " ['WHOSIS_000001' 'Life expectancy at birth (years)' 'text' 'AFR'\n",
      "  'Africa' 'Country' 'LSO' 'Lesotho' 'Year' '2021' 'true' 'Sex'\n",
      "  'Both sexes' 'SEX_BTSX' 'Unknown' 'Unknown' 'Unknown' 'Unknown'\n",
      "  'Unknown' 'Unknown' 'Unknown' 'Unknown' 'Unknown' '51.48' 'Unknown'\n",
      "  'Unknown' '50.49' 'Unknown' '52.57' '51.5 [50.5-52.6]' 'Unknown'\n",
      "  'Unknown' 'EN' '2024-08-01T22:00:00.000Z']\n",
      " ['WHOSIS_000001' 'Life expectancy at birth (years)' 'text' 'AFR'\n",
      "  'Africa' 'Country' 'SWZ' 'Eswatini' 'Year' '2021' 'true' 'Sex' 'Male'\n",
      "  'SEX_MLE' 'Unknown' 'Unknown' 'Unknown' 'Unknown' 'Unknown' 'Unknown'\n",
      "  'Unknown' 'Unknown' 'Unknown' '51.64' 'Unknown' 'Unknown' '50.73'\n",
      "  'Unknown' '52.82' '51.6 [50.7-52.8]' 'Unknown' 'Unknown' 'EN'\n",
      "  '2024-08-01T22:00:00.000Z']]\n"
     ]
    }
   ],
   "source": [
    "print(data[:5])  # Header"
   ]
  },
  {
   "cell_type": "code",
   "execution_count": null,
   "id": "29bb7b48",
   "metadata": {},
   "outputs": [],
   "source": []
  }
 ],
 "metadata": {
  "kernelspec": {
   "display_name": "Python 3 (ipykernel)",
   "language": "python",
   "name": "python3"
  },
  "language_info": {
   "codemirror_mode": {
    "name": "ipython",
    "version": 3
   },
   "file_extension": ".py",
   "mimetype": "text/x-python",
   "name": "python",
   "nbconvert_exporter": "python",
   "pygments_lexer": "ipython3",
   "version": "3.7.0"
  }
 },
 "nbformat": 4,
 "nbformat_minor": 5
}
